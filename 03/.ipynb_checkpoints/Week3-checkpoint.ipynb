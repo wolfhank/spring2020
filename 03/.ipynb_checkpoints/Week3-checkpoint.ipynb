{
 "cells": [
  {
   "cell_type": "markdown",
   "metadata": {
    "slideshow": {
     "slide_type": "slide"
    }
   },
   "source": [
    "# Week 3\n",
    "## Data retrieval, preprocessing, and normalization for ML\n"
   ]
  },
  {
   "cell_type": "markdown",
   "metadata": {
    "slideshow": {
     "slide_type": "slide"
    }
   },
   "source": [
    "## Basic Outline\n",
    "  \n",
    "* Where do data come from? Data retreival.\n",
    "* Ideal datasets and data types\n",
    "* Common wrangling needs and implementations"
   ]
  },
  {
   "cell_type": "markdown",
   "metadata": {
    "slideshow": {
     "slide_type": "slide"
    }
   },
   "source": [
    "## Where did you get your data?\n",
    "\n"
   ]
  },
  {
   "cell_type": "markdown",
   "metadata": {
    "slideshow": {
     "slide_type": "fragment"
    }
   },
   "source": [
    "* Generated in-house (stored as CSVs, TSVs, SQL, proprietary, etc)"
   ]
  },
  {
   "cell_type": "markdown",
   "metadata": {
    "slideshow": {
     "slide_type": "fragment"
    }
   },
   "source": [
    "* Collaborators"
   ]
  },
  {
   "cell_type": "markdown",
   "metadata": {
    "slideshow": {
     "slide_type": "fragment"
    }
   },
   "source": [
    "* Public sources"
   ]
  },
  {
   "cell_type": "markdown",
   "metadata": {
    "slideshow": {
     "slide_type": "slide"
    }
   },
   "source": [
    "## Scripting data retrieval improves reproducibility"
   ]
  },
  {
   "cell_type": "code",
   "execution_count": 1,
   "metadata": {},
   "outputs": [],
   "source": [
    "# you may need to:\n",
    "# !pip install requests"
   ]
  },
  {
   "cell_type": "code",
   "execution_count": 2,
   "metadata": {
    "slideshow": {
     "slide_type": "fragment"
    }
   },
   "outputs": [
    {
     "data": {
      "text/plain": [
       "('brca_protein_expression.tsv.gz', <http.client.HTTPMessage at 0x1d457cd1cc8>)"
      ]
     },
     "execution_count": 2,
     "metadata": {},
     "output_type": "execute_result"
    }
   ],
   "source": [
    "# Downloading a data file from a remote repository\n",
    "import urllib\n",
    "\n",
    "URL = \"https://dcc.icgc.org/api/v1/download?fn=/release_18/Projects/BRCA-US/protein_expression.BRCA-US.tsv.gz\"\n",
    "FILENAME = \"brca_protein_expression.tsv.gz\"\n",
    "\n",
    "urllib.request.urlretrieve(URL, FILENAME)"
   ]
  },
  {
   "cell_type": "markdown",
   "metadata": {
    "slideshow": {
     "slide_type": "fragment"
    }
   },
   "source": [
    "* Scraping tools such as Mechanize and BeautifulSoup allow extraction of data from websites\n"
   ]
  },
  {
   "cell_type": "code",
   "execution_count": 3,
   "metadata": {},
   "outputs": [
    {
     "name": "stdout",
     "output_type": "stream",
     "text": [
      "TTCTTGACACTGATTGATCTGCCAAAAGGGGAAGAATGAGTCCAGCTAGAATCCAGGACTAACCAGCGGGTGAGCTTCAAGGAACAAAGGGCTTCCGCTGG\n"
     ]
    }
   ],
   "source": [
    "import requests\n",
    "# Retrieving data from a remote web service in JSON format that gets converted to a python structure:\n",
    "def get_genome_sequence_ensembl(chromosome, start, end):\n",
    "    \"\"\" API described here http://rest.ensembl.org/documentation/info/sequence_region\"\"\"\n",
    "    url = 'https://rest.ensembl.org/sequence/region/human/{0}:{1}..{2}:1?content-type=application/json'.format(\n",
    "        chromosome, start, end)\n",
    "    r = requests.get(url, headers={\"Content-Type\": \"application/json\"}, timeout=10.000)\n",
    "    if r.ok:\n",
    "        return r.json()['seq']\n",
    "print(get_genome_sequence_ensembl(7, 200000,200100))"
   ]
  },
  {
   "cell_type": "markdown",
   "metadata": {
    "slideshow": {
     "slide_type": "slide"
    }
   },
   "source": [
    "\n",
    "## Pandas covers most of the data retrieval needs"
   ]
  },
  {
   "cell_type": "code",
   "execution_count": 4,
   "metadata": {
    "slideshow": {
     "slide_type": "slide"
    }
   },
   "outputs": [
    {
     "data": {
      "text/html": [
       "<div>\n",
       "<style scoped>\n",
       "    .dataframe tbody tr th:only-of-type {\n",
       "        vertical-align: middle;\n",
       "    }\n",
       "\n",
       "    .dataframe tbody tr th {\n",
       "        vertical-align: top;\n",
       "    }\n",
       "\n",
       "    .dataframe thead th {\n",
       "        text-align: right;\n",
       "    }\n",
       "</style>\n",
       "<table border=\"1\" class=\"dataframe\">\n",
       "  <thead>\n",
       "    <tr style=\"text-align: right;\">\n",
       "      <th></th>\n",
       "      <th>icgc_donor_id</th>\n",
       "      <th>project_code</th>\n",
       "      <th>icgc_specimen_id</th>\n",
       "      <th>icgc_sample_id</th>\n",
       "      <th>submitted_sample_id</th>\n",
       "      <th>analysis_id</th>\n",
       "      <th>antibody_id</th>\n",
       "      <th>gene_name</th>\n",
       "      <th>gene_stable_id</th>\n",
       "      <th>gene_build_version</th>\n",
       "      <th>normalized_expression_level</th>\n",
       "      <th>verification_status</th>\n",
       "      <th>verification_platform</th>\n",
       "      <th>platform</th>\n",
       "      <th>experimental_protocol</th>\n",
       "      <th>raw_data_repository</th>\n",
       "      <th>raw_data_accession</th>\n",
       "    </tr>\n",
       "  </thead>\n",
       "  <tbody>\n",
       "    <tr>\n",
       "      <td>0</td>\n",
       "      <td>DO4143</td>\n",
       "      <td>BRCA-US</td>\n",
       "      <td>SP8807</td>\n",
       "      <td>SA11426</td>\n",
       "      <td>TCGA-A1-A0SK-01A-21-A13A-20</td>\n",
       "      <td>10694</td>\n",
       "      <td>PAI-1</td>\n",
       "      <td>SERPINE1</td>\n",
       "      <td>NaN</td>\n",
       "      <td>NaN</td>\n",
       "      <td>1.769954</td>\n",
       "      <td>not tested</td>\n",
       "      <td>NaN</td>\n",
       "      <td>M.D. Anderson Reverse Phase Protein Array Core</td>\n",
       "      <td>MDA_RPPA_Core http://tcga-data.nci.nih.gov/tcg...</td>\n",
       "      <td>TCGA</td>\n",
       "      <td>TCGA-A1-A0SK-01A-21-A13A-20</td>\n",
       "    </tr>\n",
       "  </tbody>\n",
       "</table>\n",
       "</div>"
      ],
      "text/plain": [
       "  icgc_donor_id project_code icgc_specimen_id icgc_sample_id  \\\n",
       "0        DO4143      BRCA-US           SP8807        SA11426   \n",
       "\n",
       "           submitted_sample_id  analysis_id antibody_id gene_name  \\\n",
       "0  TCGA-A1-A0SK-01A-21-A13A-20        10694       PAI-1  SERPINE1   \n",
       "\n",
       "   gene_stable_id  gene_build_version  normalized_expression_level  \\\n",
       "0             NaN                 NaN                     1.769954   \n",
       "\n",
       "  verification_status  verification_platform  \\\n",
       "0          not tested                    NaN   \n",
       "\n",
       "                                         platform  \\\n",
       "0  M.D. Anderson Reverse Phase Protein Array Core   \n",
       "\n",
       "                               experimental_protocol raw_data_repository  \\\n",
       "0  MDA_RPPA_Core http://tcga-data.nci.nih.gov/tcg...                TCGA   \n",
       "\n",
       "            raw_data_accession  \n",
       "0  TCGA-A1-A0SK-01A-21-A13A-20  "
      ]
     },
     "execution_count": 4,
     "metadata": {},
     "output_type": "execute_result"
    }
   ],
   "source": [
    "import pandas as pd\n",
    "\n",
    "# Let's read with pandas\n",
    "# Note that we do not even need to unzip the file before opening!\n",
    "brca_data = pd.read_table(FILENAME, sep=\"\\t\")\n",
    "brca_data.head(1)"
   ]
  },
  {
   "cell_type": "markdown",
   "metadata": {
    "slideshow": {
     "slide_type": "slide"
    }
   },
   "source": [
    "## Pandas can even retrieve from an SQL database directly"
   ]
  },
  {
   "cell_type": "code",
   "execution_count": 5,
   "metadata": {},
   "outputs": [],
   "source": [
    "# you may need to \n",
    "# !pip install sqlalchemy\n",
    "# !pip install pymysql"
   ]
  },
  {
   "cell_type": "code",
   "execution_count": 6,
   "metadata": {
    "jupyter": {
     "source_hidden": true
    },
    "slideshow": {
     "slide_type": "slide"
    }
   },
   "outputs": [
    {
     "data": {
      "text/html": [
       "<div>\n",
       "<style scoped>\n",
       "    .dataframe tbody tr th:only-of-type {\n",
       "        vertical-align: middle;\n",
       "    }\n",
       "\n",
       "    .dataframe tbody tr th {\n",
       "        vertical-align: top;\n",
       "    }\n",
       "\n",
       "    .dataframe thead th {\n",
       "        text-align: right;\n",
       "    }\n",
       "</style>\n",
       "<table border=\"1\" class=\"dataframe\">\n",
       "  <thead>\n",
       "    <tr style=\"text-align: right;\">\n",
       "      <th></th>\n",
       "      <th>bin</th>\n",
       "      <th>chrom</th>\n",
       "      <th>chromStart</th>\n",
       "      <th>chromEnd</th>\n",
       "      <th>name</th>\n",
       "      <th>score</th>\n",
       "      <th>strand</th>\n",
       "      <th>refNCBI</th>\n",
       "      <th>refUCSC</th>\n",
       "      <th>observed</th>\n",
       "      <th>...</th>\n",
       "      <th>locType</th>\n",
       "      <th>weight</th>\n",
       "      <th>exceptions</th>\n",
       "      <th>submitterCount</th>\n",
       "      <th>submitters</th>\n",
       "      <th>alleleFreqCount</th>\n",
       "      <th>alleles</th>\n",
       "      <th>alleleNs</th>\n",
       "      <th>alleleFreqs</th>\n",
       "      <th>bitfields</th>\n",
       "    </tr>\n",
       "  </thead>\n",
       "  <tbody>\n",
       "    <tr>\n",
       "      <td>0</td>\n",
       "      <td>585</td>\n",
       "      <td>chrY</td>\n",
       "      <td>10020</td>\n",
       "      <td>10020</td>\n",
       "      <td>rs745593600</td>\n",
       "      <td>0</td>\n",
       "      <td>+</td>\n",
       "      <td>b'-'</td>\n",
       "      <td>b'-'</td>\n",
       "      <td>-/A/AAC</td>\n",
       "      <td>...</td>\n",
       "      <td>between</td>\n",
       "      <td>1</td>\n",
       "      <td>MixedObserved</td>\n",
       "      <td>1</td>\n",
       "      <td>b'1000GENOMES,'</td>\n",
       "      <td>3</td>\n",
       "      <td>b'-,A,AAC,'</td>\n",
       "      <td>b'4906.000000,10.000000,92.000000,'</td>\n",
       "      <td>b'0.979633,0.001997,0.018371,'</td>\n",
       "      <td></td>\n",
       "    </tr>\n",
       "    <tr>\n",
       "      <td>1</td>\n",
       "      <td>585</td>\n",
       "      <td>chrY</td>\n",
       "      <td>10034</td>\n",
       "      <td>10036</td>\n",
       "      <td>rs201278642</td>\n",
       "      <td>0</td>\n",
       "      <td>+</td>\n",
       "      <td>b'CC'</td>\n",
       "      <td>b'CC'</td>\n",
       "      <td>-/CC</td>\n",
       "      <td>...</td>\n",
       "      <td>range</td>\n",
       "      <td>1</td>\n",
       "      <td>MixedObserved</td>\n",
       "      <td>2</td>\n",
       "      <td>b'1000GENOMES,SSMP,'</td>\n",
       "      <td>2</td>\n",
       "      <td>b'-,CC,'</td>\n",
       "      <td>b'369.000000,4637.000000,'</td>\n",
       "      <td>b'0.073711,0.926288,'</td>\n",
       "      <td>maf-5-some-pop</td>\n",
       "    </tr>\n",
       "    <tr>\n",
       "      <td>2</td>\n",
       "      <td>585</td>\n",
       "      <td>chrY</td>\n",
       "      <td>10051</td>\n",
       "      <td>10052</td>\n",
       "      <td>rs186434315</td>\n",
       "      <td>0</td>\n",
       "      <td>+</td>\n",
       "      <td>b'T'</td>\n",
       "      <td>b'T'</td>\n",
       "      <td>A/T</td>\n",
       "      <td>...</td>\n",
       "      <td>exact</td>\n",
       "      <td>1</td>\n",
       "      <td></td>\n",
       "      <td>2</td>\n",
       "      <td>b'1000GENOMES,SSMP,'</td>\n",
       "      <td>2</td>\n",
       "      <td>b'A,T,'</td>\n",
       "      <td>b'1582.000000,3426.000000,'</td>\n",
       "      <td>b'0.315895,0.684105,'</td>\n",
       "      <td>maf-5-some-pop,maf-5-all-pops</td>\n",
       "    </tr>\n",
       "  </tbody>\n",
       "</table>\n",
       "<p>3 rows × 26 columns</p>\n",
       "</div>"
      ],
      "text/plain": [
       "   bin chrom  chromStart  chromEnd         name  score strand refNCBI refUCSC  \\\n",
       "0  585  chrY       10020     10020  rs745593600      0      +    b'-'    b'-'   \n",
       "1  585  chrY       10034     10036  rs201278642      0      +   b'CC'   b'CC'   \n",
       "2  585  chrY       10051     10052  rs186434315      0      +    b'T'    b'T'   \n",
       "\n",
       "  observed  ...  locType weight     exceptions  submitterCount  \\\n",
       "0  -/A/AAC  ...  between      1  MixedObserved               1   \n",
       "1     -/CC  ...    range      1  MixedObserved               2   \n",
       "2      A/T  ...    exact      1                              2   \n",
       "\n",
       "             submitters alleleFreqCount      alleles  \\\n",
       "0       b'1000GENOMES,'               3  b'-,A,AAC,'   \n",
       "1  b'1000GENOMES,SSMP,'               2     b'-,CC,'   \n",
       "2  b'1000GENOMES,SSMP,'               2      b'A,T,'   \n",
       "\n",
       "                              alleleNs                     alleleFreqs  \\\n",
       "0  b'4906.000000,10.000000,92.000000,'  b'0.979633,0.001997,0.018371,'   \n",
       "1           b'369.000000,4637.000000,'           b'0.073711,0.926288,'   \n",
       "2          b'1582.000000,3426.000000,'           b'0.315895,0.684105,'   \n",
       "\n",
       "                       bitfields  \n",
       "0                                 \n",
       "1                 maf-5-some-pop  \n",
       "2  maf-5-some-pop,maf-5-all-pops  \n",
       "\n",
       "[3 rows x 26 columns]"
      ]
     },
     "execution_count": 6,
     "metadata": {},
     "output_type": "execute_result"
    }
   ],
   "source": [
    "import sqlalchemy as sa\n",
    "# Connect to UCSC genomic database\n",
    "engine = sa.create_engine('mysql+pymysql://genome@genome-mysql.cse.ucsc.edu/hg38', poolclass=sa.pool.NullPool)\n",
    "# select 3 SNPs from Chromosome Y\n",
    "pd.read_sql(\"SELECT * FROM snp147Common WHERE chrom='chrY' LIMIT 3\", engine)"
   ]
  },
  {
   "cell_type": "markdown",
   "metadata": {
    "slideshow": {
     "slide_type": "slide"
    }
   },
   "source": [
    "\n",
    "## Pandas dataframes"
   ]
  },
  {
   "cell_type": "markdown",
   "metadata": {},
   "source": [
    "* Dataframes are convenient containers for mixed data types"
   ]
  },
  {
   "cell_type": "markdown",
   "metadata": {
    "slideshow": {
     "slide_type": "fragment"
    }
   },
   "source": [
    "* Pandas is *incredibly useful* for data wrangling"
   ]
  },
  {
   "cell_type": "markdown",
   "metadata": {
    "slideshow": {
     "slide_type": "fragment"
    }
   },
   "source": [
    "* sklearn is happy to accept Pandas dataframes as input"
   ]
  },
  {
   "cell_type": "markdown",
   "metadata": {
    "slideshow": {
     "slide_type": "fragment"
    }
   },
   "source": [
    "* Pandas is built for exploratory analysis, visualization and stat tests / ML "
   ]
  },
  {
   "cell_type": "code",
   "execution_count": 7,
   "metadata": {
    "slideshow": {
     "slide_type": "slide"
    }
   },
   "outputs": [
    {
     "data": {
      "text/plain": [
       "<matplotlib.axes._subplots.AxesSubplot at 0x1d45b6ded88>"
      ]
     },
     "execution_count": 7,
     "metadata": {},
     "output_type": "execute_result"
    },
    {
     "data": {
      "image/png": "[encoded data removed]",
      "text/plain": [
       "<Figure size 432x288 with 1 Axes>"
      ]
     },
     "metadata": {
      "needs_background": "light"
     },
     "output_type": "display_data"
    }
   ],
   "source": [
    "# Plotting boilerplate\n",
    "import matplotlib.pyplot as plt\n",
    "%matplotlib inline\n",
    "\n",
    "brca_data['normalized_expression_level'].hist()"
   ]
  },
  {
   "cell_type": "markdown",
   "metadata": {
    "slideshow": {
     "slide_type": "slide"
    }
   },
   "source": [
    "## Pre-processing a dataset: when are ready for ML?"
   ]
  },
  {
   "cell_type": "markdown",
   "metadata": {
    "slideshow": {
     "slide_type": "fragment"
    }
   },
   "source": [
    "* Ideally, data are organized as a table: examples-vs-features"
   ]
  },
  {
   "cell_type": "markdown",
   "metadata": {
    "slideshow": {
     "slide_type": "fragment"
    }
   },
   "source": [
    "* Data from multiple sources are combined"
   ]
  },
  {
   "cell_type": "markdown",
   "metadata": {
    "slideshow": {
     "slide_type": "fragment"
    }
   },
   "source": [
    "* Missing data are handled"
   ]
  },
  {
   "cell_type": "markdown",
   "metadata": {
    "slideshow": {
     "slide_type": "fragment"
    }
   },
   "source": [
    "* Features have been combined and manipulated as needed"
   ]
  },
  {
   "cell_type": "markdown",
   "metadata": {
    "slideshow": {
     "slide_type": "fragment"
    }
   },
   "source": [
    "* Any data that need to be normalized have been normalized"
   ]
  },
  {
   "cell_type": "markdown",
   "metadata": {
    "slideshow": {
     "slide_type": "fragment"
    }
   },
   "source": [
    "* Data are of the correct type (e.g. categorical vs continuous, boolean vs int)"
   ]
  },
  {
   "cell_type": "markdown",
   "metadata": {
    "slideshow": {
     "slide_type": "slide"
    }
   },
   "source": [
    "## Let's have a look at Boston housing prices"
   ]
  },
  {
   "cell_type": "code",
   "execution_count": 8,
   "metadata": {
    "slideshow": {
     "slide_type": "fragment"
    }
   },
   "outputs": [
    {
     "data": {
      "text/html": [
       "<div>\n",
       "<style scoped>\n",
       "    .dataframe tbody tr th:only-of-type {\n",
       "        vertical-align: middle;\n",
       "    }\n",
       "\n",
       "    .dataframe tbody tr th {\n",
       "        vertical-align: top;\n",
       "    }\n",
       "\n",
       "    .dataframe thead th {\n",
       "        text-align: right;\n",
       "    }\n",
       "</style>\n",
       "<table border=\"1\" class=\"dataframe\">\n",
       "  <thead>\n",
       "    <tr style=\"text-align: right;\">\n",
       "      <th></th>\n",
       "      <th>Id</th>\n",
       "      <th>LotFrontage</th>\n",
       "      <th>CentralAir</th>\n",
       "      <th>1stFlrSF</th>\n",
       "      <th>SaleCondition</th>\n",
       "      <th>SalePrice</th>\n",
       "    </tr>\n",
       "  </thead>\n",
       "  <tbody>\n",
       "    <tr>\n",
       "      <td>0</td>\n",
       "      <td>1</td>\n",
       "      <td>65.0</td>\n",
       "      <td>Y</td>\n",
       "      <td>856</td>\n",
       "      <td>Normal</td>\n",
       "      <td>208500</td>\n",
       "    </tr>\n",
       "    <tr>\n",
       "      <td>1</td>\n",
       "      <td>2</td>\n",
       "      <td>80.0</td>\n",
       "      <td>Y</td>\n",
       "      <td>1262</td>\n",
       "      <td>Normal</td>\n",
       "      <td>181500</td>\n",
       "    </tr>\n",
       "    <tr>\n",
       "      <td>2</td>\n",
       "      <td>3</td>\n",
       "      <td>68.0</td>\n",
       "      <td>Y</td>\n",
       "      <td>920</td>\n",
       "      <td>Normal</td>\n",
       "      <td>223500</td>\n",
       "    </tr>\n",
       "    <tr>\n",
       "      <td>3</td>\n",
       "      <td>4</td>\n",
       "      <td>60.0</td>\n",
       "      <td>Y</td>\n",
       "      <td>961</td>\n",
       "      <td>Abnorml</td>\n",
       "      <td>140000</td>\n",
       "    </tr>\n",
       "    <tr>\n",
       "      <td>4</td>\n",
       "      <td>5</td>\n",
       "      <td>84.0</td>\n",
       "      <td>Y</td>\n",
       "      <td>1145</td>\n",
       "      <td>Normal</td>\n",
       "      <td>250000</td>\n",
       "    </tr>\n",
       "  </tbody>\n",
       "</table>\n",
       "</div>"
      ],
      "text/plain": [
       "   Id  LotFrontage CentralAir  1stFlrSF SaleCondition  SalePrice\n",
       "0   1         65.0          Y       856        Normal     208500\n",
       "1   2         80.0          Y      1262        Normal     181500\n",
       "2   3         68.0          Y       920        Normal     223500\n",
       "3   4         60.0          Y       961       Abnorml     140000\n",
       "4   5         84.0          Y      1145        Normal     250000"
      ]
     },
     "execution_count": 8,
     "metadata": {},
     "output_type": "execute_result"
    }
   ],
   "source": [
    "boston = pd.read_table(\"boston_data.csv\", sep=\",\")\n",
    "boston.head()"
   ]
  },
  {
   "cell_type": "code",
   "execution_count": 9,
   "metadata": {},
   "outputs": [
    {
     "data": {
      "text/plain": [
       "Int64Index([7, 12, 14, 16, 24, 31, 42], dtype='int64')"
      ]
     },
     "execution_count": 9,
     "metadata": {},
     "output_type": "execute_result"
    }
   ],
   "source": [
    "# conver missing values\n",
    "boston[\"LotFrontage\"][boston[\"LotFrontage\"].isna()].index"
   ]
  },
  {
   "cell_type": "markdown",
   "metadata": {
    "slideshow": {
     "slide_type": "slide"
    }
   },
   "source": [
    "## Pre-processing a dataset: when are ready for ML?\n",
    "* ~~Ideally, data are organized as a table: examples-vs-features~~\n",
    "* Data from multiple sources are combined\n",
    "* Missing data are handled\n",
    "* Features have been combined and manipulated as needed\n",
    "* Any data that need to be normalized have been normalized\n",
    "* Data are of correct type (e.g. categorical vs continuous, boolean vs int)"
   ]
  },
  {
   "cell_type": "markdown",
   "metadata": {
    "slideshow": {
     "slide_type": "slide"
    }
   },
   "source": [
    "## Combining data from multiple sources"
   ]
  },
  {
   "cell_type": "code",
   "execution_count": 10,
   "metadata": {
    "slideshow": {
     "slide_type": "fragment"
    }
   },
   "outputs": [
    {
     "data": {
      "text/html": [
       "<div>\n",
       "<style scoped>\n",
       "    .dataframe tbody tr th:only-of-type {\n",
       "        vertical-align: middle;\n",
       "    }\n",
       "\n",
       "    .dataframe tbody tr th {\n",
       "        vertical-align: top;\n",
       "    }\n",
       "\n",
       "    .dataframe thead th {\n",
       "        text-align: right;\n",
       "    }\n",
       "</style>\n",
       "<table border=\"1\" class=\"dataframe\">\n",
       "  <thead>\n",
       "    <tr style=\"text-align: right;\">\n",
       "      <th></th>\n",
       "      <th>Id</th>\n",
       "      <th>2ndFlrSF</th>\n",
       "    </tr>\n",
       "  </thead>\n",
       "  <tbody>\n",
       "    <tr>\n",
       "      <td>0</td>\n",
       "      <td>2</td>\n",
       "      <td>0</td>\n",
       "    </tr>\n",
       "    <tr>\n",
       "      <td>1</td>\n",
       "      <td>1</td>\n",
       "      <td>854</td>\n",
       "    </tr>\n",
       "    <tr>\n",
       "      <td>2</td>\n",
       "      <td>3</td>\n",
       "      <td>866</td>\n",
       "    </tr>\n",
       "    <tr>\n",
       "      <td>3</td>\n",
       "      <td>4</td>\n",
       "      <td>756</td>\n",
       "    </tr>\n",
       "    <tr>\n",
       "      <td>4</td>\n",
       "      <td>5</td>\n",
       "      <td>1053</td>\n",
       "    </tr>\n",
       "  </tbody>\n",
       "</table>\n",
       "</div>"
      ],
      "text/plain": [
       "   Id  2ndFlrSF\n",
       "0   2         0\n",
       "1   1       854\n",
       "2   3       866\n",
       "3   4       756\n",
       "4   5      1053"
      ]
     },
     "execution_count": 10,
     "metadata": {},
     "output_type": "execute_result"
    }
   ],
   "source": [
    "boston_second_floor = pd.read_table(\"boston_second_floor.csv\", sep=\",\")\n",
    "boston_second_floor.head()\n",
    "#boston.head()"
   ]
  },
  {
   "cell_type": "markdown",
   "metadata": {
    "slideshow": {
     "slide_type": "slide"
    }
   },
   "source": [
    "## Combining data from multiple sources"
   ]
  },
  {
   "cell_type": "code",
   "execution_count": 11,
   "metadata": {
    "slideshow": {
     "slide_type": "slide"
    }
   },
   "outputs": [
    {
     "data": {
      "text/html": [
       "<div>\n",
       "<style scoped>\n",
       "    .dataframe tbody tr th:only-of-type {\n",
       "        vertical-align: middle;\n",
       "    }\n",
       "\n",
       "    .dataframe tbody tr th {\n",
       "        vertical-align: top;\n",
       "    }\n",
       "\n",
       "    .dataframe thead th {\n",
       "        text-align: right;\n",
       "    }\n",
       "</style>\n",
       "<table border=\"1\" class=\"dataframe\">\n",
       "  <thead>\n",
       "    <tr style=\"text-align: right;\">\n",
       "      <th></th>\n",
       "      <th>Id</th>\n",
       "      <th>LotFrontage</th>\n",
       "      <th>CentralAir</th>\n",
       "      <th>1stFlrSF</th>\n",
       "      <th>SaleCondition</th>\n",
       "      <th>SalePrice</th>\n",
       "      <th>2ndFlrSF</th>\n",
       "    </tr>\n",
       "  </thead>\n",
       "  <tbody>\n",
       "    <tr>\n",
       "      <td>0</td>\n",
       "      <td>1</td>\n",
       "      <td>65.0</td>\n",
       "      <td>Y</td>\n",
       "      <td>856</td>\n",
       "      <td>Normal</td>\n",
       "      <td>208500</td>\n",
       "      <td>854</td>\n",
       "    </tr>\n",
       "    <tr>\n",
       "      <td>1</td>\n",
       "      <td>2</td>\n",
       "      <td>80.0</td>\n",
       "      <td>Y</td>\n",
       "      <td>1262</td>\n",
       "      <td>Normal</td>\n",
       "      <td>181500</td>\n",
       "      <td>0</td>\n",
       "    </tr>\n",
       "    <tr>\n",
       "      <td>2</td>\n",
       "      <td>3</td>\n",
       "      <td>68.0</td>\n",
       "      <td>Y</td>\n",
       "      <td>920</td>\n",
       "      <td>Normal</td>\n",
       "      <td>223500</td>\n",
       "      <td>866</td>\n",
       "    </tr>\n",
       "    <tr>\n",
       "      <td>3</td>\n",
       "      <td>4</td>\n",
       "      <td>60.0</td>\n",
       "      <td>Y</td>\n",
       "      <td>961</td>\n",
       "      <td>Abnorml</td>\n",
       "      <td>140000</td>\n",
       "      <td>756</td>\n",
       "    </tr>\n",
       "    <tr>\n",
       "      <td>4</td>\n",
       "      <td>5</td>\n",
       "      <td>84.0</td>\n",
       "      <td>Y</td>\n",
       "      <td>1145</td>\n",
       "      <td>Normal</td>\n",
       "      <td>250000</td>\n",
       "      <td>1053</td>\n",
       "    </tr>\n",
       "  </tbody>\n",
       "</table>\n",
       "</div>"
      ],
      "text/plain": [
       "   Id  LotFrontage CentralAir  1stFlrSF SaleCondition  SalePrice  2ndFlrSF\n",
       "0   1         65.0          Y       856        Normal     208500       854\n",
       "1   2         80.0          Y      1262        Normal     181500         0\n",
       "2   3         68.0          Y       920        Normal     223500       866\n",
       "3   4         60.0          Y       961       Abnorml     140000       756\n",
       "4   5         84.0          Y      1145        Normal     250000      1053"
      ]
     },
     "execution_count": 11,
     "metadata": {},
     "output_type": "execute_result"
    }
   ],
   "source": [
    "# Let's combine boston and boston second floor\n",
    "boston = pd.merge(boston, boston_second_floor, on=\"Id\")\n",
    "boston.head()"
   ]
  },
  {
   "cell_type": "code",
   "execution_count": 12,
   "metadata": {
    "slideshow": {
     "slide_type": "slide"
    }
   },
   "outputs": [
    {
     "data": {
      "text/html": [
       "<div>\n",
       "<style scoped>\n",
       "    .dataframe tbody tr th:only-of-type {\n",
       "        vertical-align: middle;\n",
       "    }\n",
       "\n",
       "    .dataframe tbody tr th {\n",
       "        vertical-align: top;\n",
       "    }\n",
       "\n",
       "    .dataframe thead th {\n",
       "        text-align: right;\n",
       "    }\n",
       "</style>\n",
       "<table border=\"1\" class=\"dataframe\">\n",
       "  <thead>\n",
       "    <tr style=\"text-align: right;\">\n",
       "      <th></th>\n",
       "      <th>Id</th>\n",
       "      <th>CentralAir</th>\n",
       "      <th>1stFlrSF</th>\n",
       "      <th>SaleCondition</th>\n",
       "      <th>SalePrice</th>\n",
       "      <th>LotFrontage</th>\n",
       "    </tr>\n",
       "  </thead>\n",
       "  <tbody>\n",
       "    <tr>\n",
       "      <td>0</td>\n",
       "      <td>44</td>\n",
       "      <td>Y</td>\n",
       "      <td>938</td>\n",
       "      <td>Normal</td>\n",
       "      <td>130250</td>\n",
       "      <td>NaN</td>\n",
       "    </tr>\n",
       "    <tr>\n",
       "      <td>1</td>\n",
       "      <td>45</td>\n",
       "      <td>Y</td>\n",
       "      <td>1150</td>\n",
       "      <td>Normal</td>\n",
       "      <td>141000</td>\n",
       "      <td>70.0</td>\n",
       "    </tr>\n",
       "    <tr>\n",
       "      <td>2</td>\n",
       "      <td>46</td>\n",
       "      <td>Y</td>\n",
       "      <td>1752</td>\n",
       "      <td>Normal</td>\n",
       "      <td>319900</td>\n",
       "      <td>61.0</td>\n",
       "    </tr>\n",
       "  </tbody>\n",
       "</table>\n",
       "</div>"
      ],
      "text/plain": [
       "   Id CentralAir  1stFlrSF SaleCondition  SalePrice  LotFrontage\n",
       "0  44          Y       938        Normal     130250          NaN\n",
       "1  45          Y      1150        Normal     141000         70.0\n",
       "2  46          Y      1752        Normal     319900         61.0"
      ]
     },
     "execution_count": 12,
     "metadata": {},
     "output_type": "execute_result"
    }
   ],
   "source": [
    "# Let's add some additional data\n",
    "boston3 = pd.read_table(\"boston_additional.csv\", sep=\",\")\n",
    "boston3.head()"
   ]
  },
  {
   "cell_type": "markdown",
   "metadata": {
    "slideshow": {
     "slide_type": "slide"
    }
   },
   "source": [
    "## Thus far"
   ]
  },
  {
   "cell_type": "code",
   "execution_count": 13,
   "metadata": {
    "scrolled": true,
    "slideshow": {
     "slide_type": "slide"
    }
   },
   "outputs": [
    {
     "data": {
      "text/html": [
       "<div>\n",
       "<style scoped>\n",
       "    .dataframe tbody tr th:only-of-type {\n",
       "        vertical-align: middle;\n",
       "    }\n",
       "\n",
       "    .dataframe tbody tr th {\n",
       "        vertical-align: top;\n",
       "    }\n",
       "\n",
       "    .dataframe thead th {\n",
       "        text-align: right;\n",
       "    }\n",
       "</style>\n",
       "<table border=\"1\" class=\"dataframe\">\n",
       "  <thead>\n",
       "    <tr style=\"text-align: right;\">\n",
       "      <th></th>\n",
       "      <th>Id</th>\n",
       "      <th>LotFrontage</th>\n",
       "      <th>CentralAir</th>\n",
       "      <th>1stFlrSF</th>\n",
       "      <th>SaleCondition</th>\n",
       "      <th>SalePrice</th>\n",
       "      <th>2ndFlrSF</th>\n",
       "    </tr>\n",
       "  </thead>\n",
       "  <tbody>\n",
       "    <tr>\n",
       "      <td>33</td>\n",
       "      <td>34</td>\n",
       "      <td>70.0</td>\n",
       "      <td>Y</td>\n",
       "      <td>1700</td>\n",
       "      <td>Normal</td>\n",
       "      <td>165500</td>\n",
       "      <td>0</td>\n",
       "    </tr>\n",
       "    <tr>\n",
       "      <td>34</td>\n",
       "      <td>35</td>\n",
       "      <td>60.0</td>\n",
       "      <td>Y</td>\n",
       "      <td>1561</td>\n",
       "      <td>Normal</td>\n",
       "      <td>277500</td>\n",
       "      <td>0</td>\n",
       "    </tr>\n",
       "    <tr>\n",
       "      <td>35</td>\n",
       "      <td>36</td>\n",
       "      <td>108.0</td>\n",
       "      <td>Y</td>\n",
       "      <td>1132</td>\n",
       "      <td>Normal</td>\n",
       "      <td>309000</td>\n",
       "      <td>1320</td>\n",
       "    </tr>\n",
       "    <tr>\n",
       "      <td>36</td>\n",
       "      <td>37</td>\n",
       "      <td>112.0</td>\n",
       "      <td>Y</td>\n",
       "      <td>1097</td>\n",
       "      <td>Normal</td>\n",
       "      <td>145000</td>\n",
       "      <td>0</td>\n",
       "    </tr>\n",
       "    <tr>\n",
       "      <td>37</td>\n",
       "      <td>38</td>\n",
       "      <td>74.0</td>\n",
       "      <td>Y</td>\n",
       "      <td>1297</td>\n",
       "      <td>Normal</td>\n",
       "      <td>153000</td>\n",
       "      <td>0</td>\n",
       "    </tr>\n",
       "    <tr>\n",
       "      <td>38</td>\n",
       "      <td>39</td>\n",
       "      <td>68.0</td>\n",
       "      <td>Y</td>\n",
       "      <td>1057</td>\n",
       "      <td>Abnorml</td>\n",
       "      <td>109000</td>\n",
       "      <td>0</td>\n",
       "    </tr>\n",
       "    <tr>\n",
       "      <td>39</td>\n",
       "      <td>40</td>\n",
       "      <td>65.0</td>\n",
       "      <td>N</td>\n",
       "      <td>1152</td>\n",
       "      <td>AdjLand</td>\n",
       "      <td>82000</td>\n",
       "      <td>0</td>\n",
       "    </tr>\n",
       "    <tr>\n",
       "      <td>40</td>\n",
       "      <td>41</td>\n",
       "      <td>84.0</td>\n",
       "      <td>Y</td>\n",
       "      <td>1324</td>\n",
       "      <td>Abnorml</td>\n",
       "      <td>160000</td>\n",
       "      <td>0</td>\n",
       "    </tr>\n",
       "    <tr>\n",
       "      <td>41</td>\n",
       "      <td>42</td>\n",
       "      <td>115.0</td>\n",
       "      <td>Y</td>\n",
       "      <td>1328</td>\n",
       "      <td>Normal</td>\n",
       "      <td>170000</td>\n",
       "      <td>0</td>\n",
       "    </tr>\n",
       "    <tr>\n",
       "      <td>42</td>\n",
       "      <td>43</td>\n",
       "      <td>NaN</td>\n",
       "      <td>Y</td>\n",
       "      <td>884</td>\n",
       "      <td>Normal</td>\n",
       "      <td>144000</td>\n",
       "      <td>0</td>\n",
       "    </tr>\n",
       "  </tbody>\n",
       "</table>\n",
       "</div>"
      ],
      "text/plain": [
       "    Id  LotFrontage CentralAir  1stFlrSF SaleCondition  SalePrice  2ndFlrSF\n",
       "33  34         70.0          Y      1700        Normal     165500         0\n",
       "34  35         60.0          Y      1561        Normal     277500         0\n",
       "35  36        108.0          Y      1132        Normal     309000      1320\n",
       "36  37        112.0          Y      1097        Normal     145000         0\n",
       "37  38         74.0          Y      1297        Normal     153000         0\n",
       "38  39         68.0          Y      1057       Abnorml     109000         0\n",
       "39  40         65.0          N      1152       AdjLand      82000         0\n",
       "40  41         84.0          Y      1324       Abnorml     160000         0\n",
       "41  42        115.0          Y      1328        Normal     170000         0\n",
       "42  43          NaN          Y       884        Normal     144000         0"
      ]
     },
     "execution_count": 13,
     "metadata": {},
     "output_type": "execute_result"
    }
   ],
   "source": [
    "boston.tail(10)\n",
    "#boston.shape\n",
    "#boston.tail()"
   ]
  },
  {
   "cell_type": "markdown",
   "metadata": {
    "slideshow": {
     "slide_type": "slide"
    }
   },
   "source": [
    "## Pre-processing a dataset: when are ready for ML?\n",
    "* ~~Ideally, data are organized as a table: examples-vs-features~~\n",
    "* ~~Data from multiple sources are combined~~\n",
    "* Missing data are handled\n",
    "* Features have been combined and manipulated as needed\n",
    "* Any data that need to be normalized have been normalized\n",
    "* Data are of correct type (e.g. categorical vs continuous, boolean vs int)"
   ]
  },
  {
   "cell_type": "markdown",
   "metadata": {
    "slideshow": {
     "slide_type": "slide"
    }
   },
   "source": [
    "## Missing data\n",
    "There are a number of ways to handle missing data:\n",
    "\n",
    "* Drop all records with a value missing (simplest, but can lead to bias)\n",
    "* Substitute all missing values with an approximated value (usually depends on data and algorithm)\n",
    "* Add additional feature indicating when a value is missing"
   ]
  },
  {
   "cell_type": "markdown",
   "metadata": {
    "slideshow": {
     "slide_type": "slide"
    }
   },
   "source": [
    "## Missing data"
   ]
  },
  {
   "cell_type": "code",
   "execution_count": 14,
   "metadata": {
    "slideshow": {
     "slide_type": "fragment"
    }
   },
   "outputs": [
    {
     "data": {
      "text/plain": [
       "Id               0\n",
       "LotFrontage      0\n",
       "CentralAir       0\n",
       "1stFlrSF         0\n",
       "SaleCondition    0\n",
       "SalePrice        0\n",
       "2ndFlrSF         0\n",
       "dtype: int64"
      ]
     },
     "execution_count": 14,
     "metadata": {},
     "output_type": "execute_result"
    }
   ],
   "source": [
    "# Drop all records with missing data\n",
    "#boston.isnull().tail()\n",
    "# boston.isnull().sum()\n",
    "# boston.isnull().sum().sum()\n",
    "#boston.tail()\n",
    "#boston.dropna().tail()\n",
    "boston.dropna().isnull().sum()"
   ]
  },
  {
   "cell_type": "code",
   "execution_count": 15,
   "metadata": {
    "slideshow": {
     "slide_type": "slide"
    }
   },
   "outputs": [
    {
     "data": {
      "text/html": [
       "<div>\n",
       "<style scoped>\n",
       "    .dataframe tbody tr th:only-of-type {\n",
       "        vertical-align: middle;\n",
       "    }\n",
       "\n",
       "    .dataframe tbody tr th {\n",
       "        vertical-align: top;\n",
       "    }\n",
       "\n",
       "    .dataframe thead th {\n",
       "        text-align: right;\n",
       "    }\n",
       "</style>\n",
       "<table border=\"1\" class=\"dataframe\">\n",
       "  <thead>\n",
       "    <tr style=\"text-align: right;\">\n",
       "      <th></th>\n",
       "      <th>Id</th>\n",
       "      <th>LotFrontage</th>\n",
       "      <th>CentralAir</th>\n",
       "      <th>1stFlrSF</th>\n",
       "      <th>SaleCondition</th>\n",
       "      <th>SalePrice</th>\n",
       "      <th>2ndFlrSF</th>\n",
       "    </tr>\n",
       "  </thead>\n",
       "  <tbody>\n",
       "    <tr>\n",
       "      <td>38</td>\n",
       "      <td>39</td>\n",
       "      <td>68</td>\n",
       "      <td>Y</td>\n",
       "      <td>1057</td>\n",
       "      <td>Abnorml</td>\n",
       "      <td>109000</td>\n",
       "      <td>0</td>\n",
       "    </tr>\n",
       "    <tr>\n",
       "      <td>39</td>\n",
       "      <td>40</td>\n",
       "      <td>65</td>\n",
       "      <td>N</td>\n",
       "      <td>1152</td>\n",
       "      <td>AdjLand</td>\n",
       "      <td>82000</td>\n",
       "      <td>0</td>\n",
       "    </tr>\n",
       "    <tr>\n",
       "      <td>40</td>\n",
       "      <td>41</td>\n",
       "      <td>84</td>\n",
       "      <td>Y</td>\n",
       "      <td>1324</td>\n",
       "      <td>Abnorml</td>\n",
       "      <td>160000</td>\n",
       "      <td>0</td>\n",
       "    </tr>\n",
       "    <tr>\n",
       "      <td>41</td>\n",
       "      <td>42</td>\n",
       "      <td>115</td>\n",
       "      <td>Y</td>\n",
       "      <td>1328</td>\n",
       "      <td>Normal</td>\n",
       "      <td>170000</td>\n",
       "      <td>0</td>\n",
       "    </tr>\n",
       "    <tr>\n",
       "      <td>42</td>\n",
       "      <td>43</td>\n",
       "      <td>Value2!</td>\n",
       "      <td>Y</td>\n",
       "      <td>884</td>\n",
       "      <td>Normal</td>\n",
       "      <td>144000</td>\n",
       "      <td>0</td>\n",
       "    </tr>\n",
       "  </tbody>\n",
       "</table>\n",
       "</div>"
      ],
      "text/plain": [
       "    Id LotFrontage CentralAir  1stFlrSF SaleCondition  SalePrice  2ndFlrSF\n",
       "38  39          68          Y      1057       Abnorml     109000         0\n",
       "39  40          65          N      1152       AdjLand      82000         0\n",
       "40  41          84          Y      1324       Abnorml     160000         0\n",
       "41  42         115          Y      1328        Normal     170000         0\n",
       "42  43     Value2!          Y       884        Normal     144000         0"
      ]
     },
     "execution_count": 15,
     "metadata": {},
     "output_type": "execute_result"
    }
   ],
   "source": [
    "# Substitute missing values\n",
    "# boston.fillna(\"Value!\").tail()\n",
    "boston.fillna({\"2ndFlrSF\": \"Value1!\", \"LotFrontage\": \"Value2!\"}).tail()"
   ]
  },
  {
   "cell_type": "code",
   "execution_count": 16,
   "metadata": {
    "slideshow": {
     "slide_type": "slide"
    }
   },
   "outputs": [],
   "source": [
    "# Substitute missing values with mean\n",
    "# print(boston.mean())\n",
    "#boston.fillna(boston.mean()).tail()\n",
    "#boston.fillna(boston.median()).tail()"
   ]
  },
  {
   "cell_type": "code",
   "execution_count": 17,
   "metadata": {
    "slideshow": {
     "slide_type": "slide"
    }
   },
   "outputs": [],
   "source": [
    "# Add column indicating missing values\n",
    "# boston[\"2ndFlrSF\"].isnull()\n",
    "#boston[\"missing_second_floor\"] = boston[\"2ndFlrSF\"].isnull()\n",
    "# boston.tail()\n",
    "# boston = boston.fillna(boston.mean())\n",
    "# boston.tail()"
   ]
  },
  {
   "cell_type": "code",
   "execution_count": 18,
   "metadata": {},
   "outputs": [],
   "source": [
    "# You may need to upgrade Scikit-learn (and restart Jupyter kernel afterwards) to use Imputer\n",
    "# !pip install scikit-learn --upgrade"
   ]
  },
  {
   "cell_type": "code",
   "execution_count": 19,
   "metadata": {},
   "outputs": [],
   "source": [
    "# Imputation is a general technique for \"guessing\" appropriate missing values\n",
    "# It could be implemented as a complex ML regression algorithm or a simple 'take an average' strategy.\n",
    "from sklearn.impute import SimpleImputer"
   ]
  },
  {
   "cell_type": "code",
   "execution_count": 20,
   "metadata": {},
   "outputs": [
    {
     "data": {
      "text/plain": [
       "array([[ 65.        ],\n",
       "       [ 80.        ],\n",
       "       [ 68.        ],\n",
       "       [ 60.        ],\n",
       "       [ 84.        ],\n",
       "       [ 85.        ],\n",
       "       [ 75.        ],\n",
       "       [ 74.05555556],\n",
       "       [ 51.        ],\n",
       "       [ 50.        ],\n",
       "       [ 70.        ],\n",
       "       [ 85.        ],\n",
       "       [ 74.05555556],\n",
       "       [ 91.        ],\n",
       "       [ 74.05555556],\n",
       "       [ 51.        ],\n",
       "       [ 74.05555556],\n",
       "       [ 72.        ],\n",
       "       [ 66.        ],\n",
       "       [ 70.        ],\n",
       "       [101.        ],\n",
       "       [ 57.        ],\n",
       "       [ 75.        ],\n",
       "       [ 44.        ],\n",
       "       [ 74.05555556],\n",
       "       [110.        ],\n",
       "       [ 60.        ],\n",
       "       [ 98.        ],\n",
       "       [ 47.        ],\n",
       "       [ 60.        ],\n",
       "       [ 50.        ],\n",
       "       [ 74.05555556],\n",
       "       [ 85.        ],\n",
       "       [ 70.        ],\n",
       "       [ 60.        ],\n",
       "       [108.        ],\n",
       "       [112.        ],\n",
       "       [ 74.        ],\n",
       "       [ 68.        ],\n",
       "       [ 65.        ],\n",
       "       [ 84.        ],\n",
       "       [115.        ],\n",
       "       [ 74.05555556]])"
      ]
     },
     "execution_count": 20,
     "metadata": {},
     "output_type": "execute_result"
    }
   ],
   "source": [
    "imputer = SimpleImputer(strategy='mean')\n",
    "imputer.fit_transform(boston[[\"LotFrontage\"]])"
   ]
  },
  {
   "cell_type": "code",
   "execution_count": 40,
   "metadata": {},
   "outputs": [],
   "source": [
    "import sklearn"
   ]
  },
  {
   "cell_type": "markdown",
   "metadata": {},
   "source": [
    "- estimator: KNClassifier, KNRegressor, Kmeans clustering\n",
    "    - fit, predict, score\n",
    "- transformers: SimpleImputer, KNNImputer, OneHotEnconder\n",
    "    -fit, transform, fit_transform"
   ]
  },
  {
   "cell_type": "code",
   "execution_count": 21,
   "metadata": {},
   "outputs": [
    {
     "data": {
      "text/plain": [
       "array([[ 65.],\n",
       "       [ 80.],\n",
       "       [ 68.],\n",
       "       [ 60.],\n",
       "       [ 84.],\n",
       "       [ 85.],\n",
       "       [ 75.],\n",
       "       [ 60.],\n",
       "       [ 51.],\n",
       "       [ 50.],\n",
       "       [ 70.],\n",
       "       [ 85.],\n",
       "       [ 60.],\n",
       "       [ 91.],\n",
       "       [ 60.],\n",
       "       [ 51.],\n",
       "       [ 60.],\n",
       "       [ 72.],\n",
       "       [ 66.],\n",
       "       [ 70.],\n",
       "       [101.],\n",
       "       [ 57.],\n",
       "       [ 75.],\n",
       "       [ 44.],\n",
       "       [ 60.],\n",
       "       [110.],\n",
       "       [ 60.],\n",
       "       [ 98.],\n",
       "       [ 47.],\n",
       "       [ 60.],\n",
       "       [ 50.],\n",
       "       [ 60.],\n",
       "       [ 85.],\n",
       "       [ 70.],\n",
       "       [ 60.],\n",
       "       [108.],\n",
       "       [112.],\n",
       "       [ 74.],\n",
       "       [ 68.],\n",
       "       [ 65.],\n",
       "       [ 84.],\n",
       "       [115.],\n",
       "       [ 60.]])"
      ]
     },
     "execution_count": 21,
     "metadata": {},
     "output_type": "execute_result"
    }
   ],
   "source": [
    "imputer = SimpleImputer(strategy='most_frequent')\n",
    "imputer.fit_transform(boston[[\"LotFrontage\"]])"
   ]
  },
  {
   "cell_type": "markdown",
   "metadata": {
    "slideshow": {
     "slide_type": "slide"
    }
   },
   "source": [
    "## How to decide how to treat missing data?\n",
    "* Very data-dependent!\n",
    "* Decisions need to be justified and documented\n",
    "* Implement missing data preprocessing in a reproducible way (python script)\n",
    "* Don't create data from nothing\n",
    "* Iris example"
   ]
  },
  {
   "cell_type": "markdown",
   "metadata": {
    "slideshow": {
     "slide_type": "slide"
    }
   },
   "source": [
    "## Pre-processing a dataset: when are ready for ML?\n",
    "* ~~Ideally, data are organized as a table: examples-vs-features~~\n",
    "* ~~Data from multiple sources are combined~~\n",
    "* ~~Missing data are handled~~\n",
    "* Features have been combined and manipulated as needed\n",
    "* Any data that need to be normalized have been normalized\n",
    "* Data are of correct type (e.g. categorical vs continuous, boolean vs int)"
   ]
  },
  {
   "cell_type": "code",
   "execution_count": 22,
   "metadata": {
    "slideshow": {
     "slide_type": "slide"
    }
   },
   "outputs": [
    {
     "data": {
      "text/html": [
       "<div>\n",
       "<style scoped>\n",
       "    .dataframe tbody tr th:only-of-type {\n",
       "        vertical-align: middle;\n",
       "    }\n",
       "\n",
       "    .dataframe tbody tr th {\n",
       "        vertical-align: top;\n",
       "    }\n",
       "\n",
       "    .dataframe thead th {\n",
       "        text-align: right;\n",
       "    }\n",
       "</style>\n",
       "<table border=\"1\" class=\"dataframe\">\n",
       "  <thead>\n",
       "    <tr style=\"text-align: right;\">\n",
       "      <th></th>\n",
       "      <th>Id</th>\n",
       "      <th>LotFrontage</th>\n",
       "      <th>CentralAir</th>\n",
       "      <th>1stFlrSF</th>\n",
       "      <th>SaleCondition</th>\n",
       "      <th>SalePrice</th>\n",
       "      <th>2ndFlrSF</th>\n",
       "      <th>total_sf</th>\n",
       "    </tr>\n",
       "  </thead>\n",
       "  <tbody>\n",
       "    <tr>\n",
       "      <td>0</td>\n",
       "      <td>1</td>\n",
       "      <td>65.0</td>\n",
       "      <td>Y</td>\n",
       "      <td>856</td>\n",
       "      <td>Normal</td>\n",
       "      <td>208500</td>\n",
       "      <td>854</td>\n",
       "      <td>1710</td>\n",
       "    </tr>\n",
       "    <tr>\n",
       "      <td>1</td>\n",
       "      <td>2</td>\n",
       "      <td>80.0</td>\n",
       "      <td>Y</td>\n",
       "      <td>1262</td>\n",
       "      <td>Normal</td>\n",
       "      <td>181500</td>\n",
       "      <td>0</td>\n",
       "      <td>1262</td>\n",
       "    </tr>\n",
       "    <tr>\n",
       "      <td>2</td>\n",
       "      <td>3</td>\n",
       "      <td>68.0</td>\n",
       "      <td>Y</td>\n",
       "      <td>920</td>\n",
       "      <td>Normal</td>\n",
       "      <td>223500</td>\n",
       "      <td>866</td>\n",
       "      <td>1786</td>\n",
       "    </tr>\n",
       "    <tr>\n",
       "      <td>3</td>\n",
       "      <td>4</td>\n",
       "      <td>60.0</td>\n",
       "      <td>Y</td>\n",
       "      <td>961</td>\n",
       "      <td>Abnorml</td>\n",
       "      <td>140000</td>\n",
       "      <td>756</td>\n",
       "      <td>1717</td>\n",
       "    </tr>\n",
       "    <tr>\n",
       "      <td>4</td>\n",
       "      <td>5</td>\n",
       "      <td>84.0</td>\n",
       "      <td>Y</td>\n",
       "      <td>1145</td>\n",
       "      <td>Normal</td>\n",
       "      <td>250000</td>\n",
       "      <td>1053</td>\n",
       "      <td>2198</td>\n",
       "    </tr>\n",
       "  </tbody>\n",
       "</table>\n",
       "</div>"
      ],
      "text/plain": [
       "   Id  LotFrontage CentralAir  1stFlrSF SaleCondition  SalePrice  2ndFlrSF  \\\n",
       "0   1         65.0          Y       856        Normal     208500       854   \n",
       "1   2         80.0          Y      1262        Normal     181500         0   \n",
       "2   3         68.0          Y       920        Normal     223500       866   \n",
       "3   4         60.0          Y       961       Abnorml     140000       756   \n",
       "4   5         84.0          Y      1145        Normal     250000      1053   \n",
       "\n",
       "   total_sf  \n",
       "0      1710  \n",
       "1      1262  \n",
       "2      1786  \n",
       "3      1717  \n",
       "4      2198  "
      ]
     },
     "execution_count": 22,
     "metadata": {},
     "output_type": "execute_result"
    }
   ],
   "source": [
    "# boston.head()\n",
    "boston[\"total_sf\"] = boston[\"1stFlrSF\"] + boston[\"2ndFlrSF\"]\n",
    "boston.head()"
   ]
  },
  {
   "cell_type": "code",
   "execution_count": 23,
   "metadata": {
    "slideshow": {
     "slide_type": "slide"
    }
   },
   "outputs": [
    {
     "data": {
      "text/html": [
       "<div>\n",
       "<style scoped>\n",
       "    .dataframe tbody tr th:only-of-type {\n",
       "        vertical-align: middle;\n",
       "    }\n",
       "\n",
       "    .dataframe tbody tr th {\n",
       "        vertical-align: top;\n",
       "    }\n",
       "\n",
       "    .dataframe thead th {\n",
       "        text-align: right;\n",
       "    }\n",
       "</style>\n",
       "<table border=\"1\" class=\"dataframe\">\n",
       "  <thead>\n",
       "    <tr style=\"text-align: right;\">\n",
       "      <th></th>\n",
       "      <th>Id</th>\n",
       "      <th>LotFrontage</th>\n",
       "      <th>CentralAir</th>\n",
       "      <th>1stFlrSF</th>\n",
       "      <th>SaleCondition</th>\n",
       "      <th>SalePrice</th>\n",
       "      <th>2ndFlrSF</th>\n",
       "      <th>total_sf</th>\n",
       "    </tr>\n",
       "  </thead>\n",
       "  <tbody>\n",
       "    <tr>\n",
       "      <td>0</td>\n",
       "      <td>1</td>\n",
       "      <td>65.0</td>\n",
       "      <td>Y</td>\n",
       "      <td>856</td>\n",
       "      <td>normal</td>\n",
       "      <td>208500</td>\n",
       "      <td>854</td>\n",
       "      <td>1710</td>\n",
       "    </tr>\n",
       "    <tr>\n",
       "      <td>1</td>\n",
       "      <td>2</td>\n",
       "      <td>80.0</td>\n",
       "      <td>Y</td>\n",
       "      <td>1262</td>\n",
       "      <td>normal</td>\n",
       "      <td>181500</td>\n",
       "      <td>0</td>\n",
       "      <td>1262</td>\n",
       "    </tr>\n",
       "    <tr>\n",
       "      <td>2</td>\n",
       "      <td>3</td>\n",
       "      <td>68.0</td>\n",
       "      <td>Y</td>\n",
       "      <td>920</td>\n",
       "      <td>normal</td>\n",
       "      <td>223500</td>\n",
       "      <td>866</td>\n",
       "      <td>1786</td>\n",
       "    </tr>\n",
       "    <tr>\n",
       "      <td>3</td>\n",
       "      <td>4</td>\n",
       "      <td>60.0</td>\n",
       "      <td>Y</td>\n",
       "      <td>961</td>\n",
       "      <td>abnormal</td>\n",
       "      <td>140000</td>\n",
       "      <td>756</td>\n",
       "      <td>1717</td>\n",
       "    </tr>\n",
       "    <tr>\n",
       "      <td>4</td>\n",
       "      <td>5</td>\n",
       "      <td>84.0</td>\n",
       "      <td>Y</td>\n",
       "      <td>1145</td>\n",
       "      <td>normal</td>\n",
       "      <td>250000</td>\n",
       "      <td>1053</td>\n",
       "      <td>2198</td>\n",
       "    </tr>\n",
       "  </tbody>\n",
       "</table>\n",
       "</div>"
      ],
      "text/plain": [
       "   Id  LotFrontage CentralAir  1stFlrSF SaleCondition  SalePrice  2ndFlrSF  \\\n",
       "0   1         65.0          Y       856        normal     208500       854   \n",
       "1   2         80.0          Y      1262        normal     181500         0   \n",
       "2   3         68.0          Y       920        normal     223500       866   \n",
       "3   4         60.0          Y       961      abnormal     140000       756   \n",
       "4   5         84.0          Y      1145        normal     250000      1053   \n",
       "\n",
       "   total_sf  \n",
       "0      1710  \n",
       "1      1262  \n",
       "2      1786  \n",
       "3      1717  \n",
       "4      2198  "
      ]
     },
     "execution_count": 23,
     "metadata": {},
     "output_type": "execute_result"
    }
   ],
   "source": [
    "boston.head()\n",
    "boston = boston.replace({\"Abnorml\": \"abnormal\", \"Normal\": \"normal\"})\n",
    "boston.head()"
   ]
  },
  {
   "cell_type": "markdown",
   "metadata": {
    "slideshow": {
     "slide_type": "slide"
    }
   },
   "source": [
    "## Pre-processing a dataset: when are ready for ML?\n",
    "* ~~Ideally, data are organized as a table: examples-vs-features~~\n",
    "* ~~Data from multiple sources are combined~~\n",
    "* ~~Missing data are handled~~\n",
    "* ~~Features have been combined and manipulated as needed~~\n",
    "* Any data that need to be normalized have been normalized\n",
    "* Data are of correct type (e.g. categorical vs continuous, boolean vs int)"
   ]
  },
  {
   "cell_type": "markdown",
   "metadata": {
    "slideshow": {
     "slide_type": "slide"
    }
   },
   "source": [
    "## Normalization\n",
    "* What is it?\n",
    "* Why do it? (data sources, feature distributions)\n",
    "* Types?"
   ]
  },
  {
   "cell_type": "markdown",
   "metadata": {
    "slideshow": {
     "slide_type": "slide"
    }
   },
   "source": [
    "### Normalization\n",
    "\n",
    "Many machine learning algorithms expect features to have similar distributions and scales.\n",
    "\n",
    "A classic example is gradient descent, if features are on different scales some weights will update faster than others because the feature values scale the weight updates.\n",
    "\n",
    "There are two common approaches to normalization:\n",
    "\n",
    "* Z-score standardization\n",
    "* Min-max scaling\n",
    "\n",
    "#### Z-score standardization\n",
    "\n",
    "Z-score standardization rescales values so that they have a mean of zero and a standard deviation of 1. Specifically we perform the following transformation:\n",
    "\n",
    "$$z = \\frac{x - \\mu}{\\sigma}$$\n",
    "\n",
    "#### Min-max scaling\n",
    "\n",
    "An alternative is min-max scaling that transforms data into the range of 0 to 1. Specifically:\n",
    "\n",
    "$$x_{norm} = \\frac{x - x_{min}}{x_{max} - x_{min}}$$\n",
    "\n",
    "Min-max scaling is less commonly used but can be useful for image data and in some neural networks."
   ]
  },
  {
   "cell_type": "code",
   "execution_count": 24,
   "metadata": {
    "slideshow": {
     "slide_type": "slide"
    }
   },
   "outputs": [
    {
     "name": "stdout",
     "output_type": "stream",
     "text": [
      "[[-1.11717197]\n",
      " [ 0.30978064]\n",
      " [-0.89223363]\n",
      " [-0.7481325 ]\n",
      " [-0.10143477]\n",
      " [-1.32805167]\n",
      " [ 1.82811445]\n",
      " [-0.23499191]\n",
      " [-0.53373814]\n",
      " [-0.34043176]\n",
      " [-0.47047424]\n",
      " [ 0.02860771]\n",
      " [-0.92035092]\n",
      " [ 1.12518213]\n",
      " [ 0.27814868]\n",
      " [-1.12420129]\n",
      " [-0.59700205]\n",
      " [ 0.42927913]\n",
      " [-0.21038928]\n",
      " [ 0.58040958]\n",
      " [-0.05574417]\n",
      " [-0.23147725]\n",
      " [ 2.18309527]\n",
      " [-0.400181  ]\n",
      " [-0.400181  ]\n",
      " [ 1.49773626]\n",
      " [-0.96252686]\n",
      " [ 1.86326106]\n",
      " [ 1.49773626]\n",
      " [-2.29809827]\n",
      " [-1.84470692]\n",
      " [ 0.19028214]\n",
      " [ 0.21137011]\n",
      " [ 1.84920242]\n",
      " [ 1.36066446]\n",
      " [-0.14712537]\n",
      " [-0.27013853]\n",
      " [ 0.43279379]\n",
      " [-0.41072499]\n",
      " [-0.07683214]\n",
      " [ 0.52768966]\n",
      " [ 0.5417483 ]\n",
      " [-1.01876145]]\n"
     ]
    }
   ],
   "source": [
    "# a = (boston['1stFlrSF'] - boston['1stFlrSF'].mean()) / boston['1stFlrSF'].std()\n",
    "# boston['1stFlrSF'].hist()\n",
    "# boston.head()\n",
    "## boston.total_sf.hist()\n",
    "from sklearn.preprocessing import scale, StandardScaler, MinMaxScaler\n",
    "\n",
    "scaler = StandardScaler()\n",
    "print(scaler.fit_transform(boston[['1stFlrSF']]))\n",
    "#scaled_size = pd.Series(scale(boston.total_sf))\n",
    "#scaled_size.hist()\n",
    "#scaled_size.mean()\n",
    "#scaled_size.std(ddof=0)\n",
    "#boston[\"normalized_total_sf\"] = scaled_size"
   ]
  },
  {
   "cell_type": "code",
   "execution_count": 25,
   "metadata": {},
   "outputs": [
    {
     "name": "stdout",
     "output_type": "stream",
     "text": [
      "[[0.26352941]\n",
      " [0.58196078]\n",
      " [0.31372549]\n",
      " [0.34588235]\n",
      " [0.49019608]\n",
      " [0.21647059]\n",
      " [0.92078431]\n",
      " [0.46039216]\n",
      " [0.39372549]\n",
      " [0.43686275]\n",
      " [0.40784314]\n",
      " [0.51921569]\n",
      " [0.30745098]\n",
      " [0.76392157]\n",
      " [0.57490196]\n",
      " [0.26196078]\n",
      " [0.37960784]\n",
      " [0.60862745]\n",
      " [0.46588235]\n",
      " [0.64235294]\n",
      " [0.50039216]\n",
      " [0.46117647]\n",
      " [1.        ]\n",
      " [0.42352941]\n",
      " [0.42352941]\n",
      " [0.84705882]\n",
      " [0.29803922]\n",
      " [0.92862745]\n",
      " [0.84705882]\n",
      " [0.        ]\n",
      " [0.10117647]\n",
      " [0.55529412]\n",
      " [0.56      ]\n",
      " [0.9254902 ]\n",
      " [0.81647059]\n",
      " [0.48      ]\n",
      " [0.45254902]\n",
      " [0.60941176]\n",
      " [0.42117647]\n",
      " [0.49568627]\n",
      " [0.63058824]\n",
      " [0.63372549]\n",
      " [0.2854902 ]]\n"
     ]
    }
   ],
   "source": [
    "scaler = MinMaxScaler()\n",
    "print(scaler.fit_transform(boston[['1stFlrSF']]))"
   ]
  },
  {
   "cell_type": "markdown",
   "metadata": {
    "slideshow": {
     "slide_type": "slide"
    }
   },
   "source": [
    "## Other preprocessing / normalization techniques and thoughts\n",
    "* http://scikit-learn.org/stable/modules/preprocessing.html\n",
    "* http://www.faqs.org/faqs/ai-faq/neural-nets/part2/section-16.html"
   ]
  },
  {
   "cell_type": "markdown",
   "metadata": {
    "slideshow": {
     "slide_type": "slide"
    }
   },
   "source": [
    "## Pre-processing a dataset: when are ready for ML?\n",
    "* ~~Ideally, data are organized as a table: examples-vs-features~~\n",
    "* ~~Data from multiple sources are combined~~\n",
    "* ~~Missing data are handled~~\n",
    "* ~~Features have been combined and manipulated as needed~~\n",
    "* ~~Any data that need to be normalized have been normalized~~\n",
    "* Data are of correct type (e.g. categorical vs continuous, boolean vs int)"
   ]
  },
  {
   "cell_type": "code",
   "execution_count": 26,
   "metadata": {
    "slideshow": {
     "slide_type": "slide"
    }
   },
   "outputs": [
    {
     "data": {
      "text/plain": [
       "CategoricalDtype(categories=['AdjLand', 'Partial', 'abnormal', 'normal'], ordered=False)"
      ]
     },
     "execution_count": 26,
     "metadata": {},
     "output_type": "execute_result"
    }
   ],
   "source": [
    "#boston.head()\n",
    "import numpy as np\n",
    "\n",
    "# boston[\"1stFlrSF\"].mean(skipna=False)\n",
    "boston[\"CentralAir_bool\"] = boston[\"CentralAir\"] == \"Y\"\n",
    "# boston.head()\n",
    "# boston[\"SaleCondition\"].dtype\n",
    "#boston[\"SaleCondition\"].head()\n",
    "boston[\"SaleCondition\"].astype(\"category\").dtype\n",
    "#boston[\"SaleCondition\"] = boston[\"SaleCondition\"].astype(\"category\")\n",
    "#boston[\"SaleCondition\"].dtype"
   ]
  },
  {
   "cell_type": "code",
   "execution_count": 1,
   "metadata": {},
   "outputs": [
    {
     "name": "stdout",
     "output_type": "stream",
     "text": [
      "Collecting package metadata (current_repodata.json): ...working... done\n",
      "Solving environment: ...working... done\n",
      "\n",
      "## Package Plan ##\n",
      "\n",
      "  environment location: C:\\Users\\huy13\\AppData\\Local\\Continuum\\anaconda3\n",
      "\n",
      "  added / updated specs:\n",
      "    - scikit-learn\n",
      "\n",
      "\n",
      "The following packages will be downloaded:\n",
      "\n",
      "    package                    |            build\n",
      "    ---------------------------|-----------------\n",
      "    conda-4.8.3                |   py37hc8dfbb8_1         3.1 MB  conda-forge\n",
      "    python_abi-3.7             |          1_cp37m           4 KB  conda-forge\n",
      "    ------------------------------------------------------------\n",
      "                                           Total:         3.1 MB\n",
      "\n",
      "The following NEW packages will be INSTALLED:\n",
      "\n",
      "  python_abi         conda-forge/win-64::python_abi-3.7-1_cp37m\n",
      "\n",
      "The following packages will be UPDATED:\n",
      "\n",
      "  conda                       pkgs/main::conda-4.8.2-py37_0 --> conda-forge::conda-4.8.3-py37hc8dfbb8_1\n",
      "\n",
      "\n",
      "\n",
      "Downloading and Extracting Packages\n",
      "\n",
      "conda-4.8.3          | 3.1 MB    |            |   0% \n",
      "conda-4.8.3          | 3.1 MB    |            |   1% \n",
      "conda-4.8.3          | 3.1 MB    | ##3        |  23% \n",
      "conda-4.8.3          | 3.1 MB    | #######4   |  74% \n",
      "conda-4.8.3          | 3.1 MB    | ########## | 100% \n",
      "\n",
      "python_abi-3.7       | 4 KB      |            |   0% \n",
      "python_abi-3.7       | 4 KB      | ########## | 100% \n",
      "Preparing transaction: ...working... done\n",
      "Verifying transaction: ...working... done\n",
      "Executing transaction: ...working... done\n",
      "\n",
      "Note: you may need to restart the kernel to use updated packages.\n"
     ]
    },
    {
     "name": "stderr",
     "output_type": "stream",
     "text": [
      "\n",
      "\n",
      "==> WARNING: A newer version of conda exists. <==\n",
      "  current version: 4.8.2\n",
      "  latest version: 4.8.3\n",
      "\n",
      "Please update conda by running\n",
      "\n",
      "    $ conda update -n base -c defaults conda\n",
      "\n",
      "\n"
     ]
    }
   ],
   "source": [
    "%conda install -yc conda-forge scikit-learn"
   ]
  },
  {
   "cell_type": "code",
   "execution_count": 2,
   "metadata": {},
   "outputs": [
    {
     "name": "stdout",
     "output_type": "stream",
     "text": [
      "Collecting package metadata (current_repodata.json): ...working... done\n",
      "Solving environment: ...working... done\n",
      "\n",
      "## Package Plan ##\n",
      "\n",
      "  environment location: C:\\Users\\huy13\\AppData\\Local\\Continuum\\anaconda3\n",
      "\n",
      "  added / updated specs:\n",
      "    - conda\n",
      "\n",
      "\n",
      "The following packages will be downloaded:\n",
      "\n",
      "    package                    |            build\n",
      "    ---------------------------|-----------------\n",
      "    conda-4.8.3                |           py37_0         2.8 MB\n",
      "    ------------------------------------------------------------\n",
      "                                           Total:         2.8 MB\n",
      "\n",
      "The following packages will be REMOVED:\n",
      "\n",
      "  python_abi-3.7-1_cp37m\n",
      "\n",
      "The following packages will be SUPERSEDED by a higher-priority channel:\n",
      "\n",
      "  conda              conda-forge::conda-4.8.3-py37hc8dfbb8~ --> pkgs/main::conda-4.8.3-py37_0\n",
      "\n",
      "\n",
      "\n",
      "Downloading and Extracting Packages\n",
      "\n",
      "conda-4.8.3          | 2.8 MB    |            |   0% \n",
      "conda-4.8.3          | 2.8 MB    |            |   1% \n",
      "conda-4.8.3          | 2.8 MB    | ##4        |  24% \n",
      "conda-4.8.3          | 2.8 MB    | #######9   |  80% \n",
      "conda-4.8.3          | 2.8 MB    | ########## | 100% \n",
      "Preparing transaction: ...working... done\n",
      "Verifying transaction: ...working... done\n",
      "Executing transaction: ...working... done\n",
      "\n",
      "Note: you may need to restart the kernel to use updated packages.\n"
     ]
    }
   ],
   "source": [
    "conda update -n base -c defaults conda "
   ]
  },
  {
   "cell_type": "code",
   "execution_count": 1,
   "metadata": {},
   "outputs": [
    {
     "data": {
      "text/plain": [
       "array([[1],\n",
       "       [1],\n",
       "       [0],\n",
       "       [0]])"
      ]
     },
     "execution_count": 1,
     "metadata": {},
     "output_type": "execute_result"
    }
   ],
   "source": [
    "from sklearn.preprocessing import OneHotEncoder, LabelBinarizer\n",
    "\n",
    "lb = LabelBinarizer()\n",
    "lb.fit_transform(['yes', 'yes', 'no', 'no'])          "
   ]
  },
  {
   "cell_type": "code",
   "execution_count": 2,
   "metadata": {},
   "outputs": [
    {
     "data": {
      "text/plain": [
       "array([[0, 0, 1],\n",
       "       [0, 0, 1],\n",
       "       [0, 1, 0],\n",
       "       [0, 1, 0],\n",
       "       [1, 0, 0]])"
      ]
     },
     "execution_count": 2,
     "metadata": {},
     "output_type": "execute_result"
    }
   ],
   "source": [
    "lb.fit_transform(['yes', 'yes', 'no', 'no', 'maybe'])"
   ]
  },
  {
   "cell_type": "code",
   "execution_count": 3,
   "metadata": {},
   "outputs": [
    {
     "data": {
      "text/plain": [
       "array([[0, 1],\n",
       "       [0, 1],\n",
       "       [1, 0],\n",
       "       [1, 0],\n",
       "       [0, 0]])"
      ]
     },
     "execution_count": 3,
     "metadata": {},
     "output_type": "execute_result"
    }
   ],
   "source": [
    "lb.fit_transform(['yes', 'yes', 'no', 'no', 'maybe'])[:,1:]"
   ]
  },
  {
   "cell_type": "code",
   "execution_count": 4,
   "metadata": {},
   "outputs": [
    {
     "ename": "NameError",
     "evalue": "name 'boston' is not defined",
     "output_type": "error",
     "traceback": [
      "\u001b[1;31m---------------------------------------------------------------------------\u001b[0m",
      "\u001b[1;31mNameError\u001b[0m                                 Traceback (most recent call last)",
      "\u001b[1;32m<ipython-input-4-794066f0cf6f>\u001b[0m in \u001b[0;36m<module>\u001b[1;34m\u001b[0m\n\u001b[0;32m      1\u001b[0m \u001b[0mohe\u001b[0m \u001b[1;33m=\u001b[0m \u001b[0mOneHotEncoder\u001b[0m\u001b[1;33m(\u001b[0m\u001b[1;33m)\u001b[0m\u001b[1;33m\u001b[0m\u001b[1;33m\u001b[0m\u001b[0m\n\u001b[1;32m----> 2\u001b[1;33m \u001b[0msparse_matrix\u001b[0m \u001b[1;33m=\u001b[0m \u001b[0mohe\u001b[0m\u001b[1;33m.\u001b[0m\u001b[0mfit_transform\u001b[0m\u001b[1;33m(\u001b[0m\u001b[0mboston\u001b[0m\u001b[1;33m[\u001b[0m\u001b[1;33m[\u001b[0m\u001b[1;34m'SaleCondition'\u001b[0m\u001b[1;33m,\u001b[0m \u001b[1;34m'CentralAir_bool'\u001b[0m\u001b[1;33m]\u001b[0m\u001b[1;33m]\u001b[0m\u001b[1;33m)\u001b[0m\u001b[1;33m\u001b[0m\u001b[1;33m\u001b[0m\u001b[0m\n\u001b[0m\u001b[0;32m      3\u001b[0m \u001b[0msparse_matrix\u001b[0m\u001b[1;33m.\u001b[0m\u001b[0mtodense\u001b[0m\u001b[1;33m(\u001b[0m\u001b[1;33m)\u001b[0m\u001b[1;33m\u001b[0m\u001b[1;33m\u001b[0m\u001b[0m\n",
      "\u001b[1;31mNameError\u001b[0m: name 'boston' is not defined"
     ]
    }
   ],
   "source": [
    "ohe = OneHotEncoder()\n",
    "sparse_matrix = ohe.fit_transform(boston[['SaleCondition', 'CentralAir_bool']])\n",
    "sparse_matrix.todense()"
   ]
  },
  {
   "cell_type": "markdown",
   "metadata": {},
   "source": [
    "### Another example of categorical data conversion to boolean features"
   ]
  },
  {
   "cell_type": "code",
   "execution_count": 30,
   "metadata": {},
   "outputs": [
    {
     "data": {
      "text/html": [
       "<div>\n",
       "<style scoped>\n",
       "    .dataframe tbody tr th:only-of-type {\n",
       "        vertical-align: middle;\n",
       "    }\n",
       "\n",
       "    .dataframe tbody tr th {\n",
       "        vertical-align: top;\n",
       "    }\n",
       "\n",
       "    .dataframe thead th {\n",
       "        text-align: right;\n",
       "    }\n",
       "</style>\n",
       "<table border=\"1\" class=\"dataframe\">\n",
       "  <thead>\n",
       "    <tr style=\"text-align: right;\">\n",
       "      <th></th>\n",
       "      <th>A</th>\n",
       "      <th>B</th>\n",
       "      <th>C</th>\n",
       "      <th>D</th>\n",
       "      <th>E</th>\n",
       "    </tr>\n",
       "  </thead>\n",
       "  <tbody>\n",
       "    <tr>\n",
       "      <td>0</td>\n",
       "      <td>0</td>\n",
       "      <td>2</td>\n",
       "      <td>0.1</td>\n",
       "      <td>100</td>\n",
       "      <td>Green</td>\n",
       "    </tr>\n",
       "    <tr>\n",
       "      <td>1</td>\n",
       "      <td>1</td>\n",
       "      <td>NaN</td>\n",
       "      <td>0.12</td>\n",
       "      <td>120</td>\n",
       "      <td>Red</td>\n",
       "    </tr>\n",
       "    <tr>\n",
       "      <td>2</td>\n",
       "      <td>2</td>\n",
       "      <td>7</td>\n",
       "      <td>0.11</td>\n",
       "      <td>NaN</td>\n",
       "      <td>Blue</td>\n",
       "    </tr>\n",
       "    <tr>\n",
       "      <td>3</td>\n",
       "      <td>3</td>\n",
       "      <td>4</td>\n",
       "      <td>0.15</td>\n",
       "      <td>127</td>\n",
       "      <td>Blue</td>\n",
       "    </tr>\n",
       "    <tr>\n",
       "      <td>4</td>\n",
       "      <td>4</td>\n",
       "      <td>9</td>\n",
       "      <td>0.16</td>\n",
       "      <td>130</td>\n",
       "      <td>Green</td>\n",
       "    </tr>\n",
       "    <tr>\n",
       "      <td>5</td>\n",
       "      <td>5</td>\n",
       "      <td>1</td>\n",
       "      <td>0.11</td>\n",
       "      <td>121</td>\n",
       "      <td>Red</td>\n",
       "    </tr>\n",
       "    <tr>\n",
       "      <td>6</td>\n",
       "      <td>6</td>\n",
       "      <td>3</td>\n",
       "      <td>0.14</td>\n",
       "      <td>124</td>\n",
       "      <td>Green</td>\n",
       "    </tr>\n",
       "  </tbody>\n",
       "</table>\n",
       "</div>"
      ],
      "text/plain": [
       "   A    B     C    D      E\n",
       "0  0    2   0.1  100  Green\n",
       "1  1  NaN  0.12  120    Red\n",
       "2  2    7  0.11  NaN   Blue\n",
       "3  3    4  0.15  127   Blue\n",
       "4  4    9  0.16  130  Green\n",
       "5  5    1  0.11  121    Red\n",
       "6  6    3  0.14  124  Green"
      ]
     },
     "execution_count": 30,
     "metadata": {},
     "output_type": "execute_result"
    }
   ],
   "source": [
    "x = pd.DataFrame([[0,1,2,3,4,5,6],\n",
    "                  [2,np.nan,7,4,9,1,3],\n",
    "                  [0.1,0.12,0.11,0.15,0.16,0.11,0.14],\n",
    "                  [100,120,np.nan,127,130,121,124],\n",
    "                  ['Green','Red','Blue','Blue','Green','Red','Green']], ).T\n",
    "x.columns = ['A', 'B', 'C', 'D', 'E']\n",
    "x"
   ]
  },
  {
   "cell_type": "code",
   "execution_count": 31,
   "metadata": {},
   "outputs": [
    {
     "data": {
      "text/html": [
       "<div>\n",
       "<style scoped>\n",
       "    .dataframe tbody tr th:only-of-type {\n",
       "        vertical-align: middle;\n",
       "    }\n",
       "\n",
       "    .dataframe tbody tr th {\n",
       "        vertical-align: top;\n",
       "    }\n",
       "\n",
       "    .dataframe thead th {\n",
       "        text-align: right;\n",
       "    }\n",
       "</style>\n",
       "<table border=\"1\" class=\"dataframe\">\n",
       "  <thead>\n",
       "    <tr style=\"text-align: right;\">\n",
       "      <th></th>\n",
       "      <th>A</th>\n",
       "      <th>B</th>\n",
       "      <th>C</th>\n",
       "      <th>D</th>\n",
       "      <th>E</th>\n",
       "      <th>E_Green</th>\n",
       "      <th>E_Red</th>\n",
       "      <th>E_Blue</th>\n",
       "    </tr>\n",
       "  </thead>\n",
       "  <tbody>\n",
       "    <tr>\n",
       "      <td>0</td>\n",
       "      <td>0</td>\n",
       "      <td>2</td>\n",
       "      <td>0.1</td>\n",
       "      <td>100</td>\n",
       "      <td>Green</td>\n",
       "      <td>True</td>\n",
       "      <td>False</td>\n",
       "      <td>False</td>\n",
       "    </tr>\n",
       "    <tr>\n",
       "      <td>1</td>\n",
       "      <td>1</td>\n",
       "      <td>NaN</td>\n",
       "      <td>0.12</td>\n",
       "      <td>120</td>\n",
       "      <td>Red</td>\n",
       "      <td>False</td>\n",
       "      <td>True</td>\n",
       "      <td>False</td>\n",
       "    </tr>\n",
       "    <tr>\n",
       "      <td>2</td>\n",
       "      <td>2</td>\n",
       "      <td>7</td>\n",
       "      <td>0.11</td>\n",
       "      <td>NaN</td>\n",
       "      <td>Blue</td>\n",
       "      <td>False</td>\n",
       "      <td>False</td>\n",
       "      <td>True</td>\n",
       "    </tr>\n",
       "    <tr>\n",
       "      <td>3</td>\n",
       "      <td>3</td>\n",
       "      <td>4</td>\n",
       "      <td>0.15</td>\n",
       "      <td>127</td>\n",
       "      <td>Blue</td>\n",
       "      <td>False</td>\n",
       "      <td>False</td>\n",
       "      <td>True</td>\n",
       "    </tr>\n",
       "    <tr>\n",
       "      <td>4</td>\n",
       "      <td>4</td>\n",
       "      <td>9</td>\n",
       "      <td>0.16</td>\n",
       "      <td>130</td>\n",
       "      <td>Green</td>\n",
       "      <td>True</td>\n",
       "      <td>False</td>\n",
       "      <td>False</td>\n",
       "    </tr>\n",
       "    <tr>\n",
       "      <td>5</td>\n",
       "      <td>5</td>\n",
       "      <td>1</td>\n",
       "      <td>0.11</td>\n",
       "      <td>121</td>\n",
       "      <td>Red</td>\n",
       "      <td>False</td>\n",
       "      <td>True</td>\n",
       "      <td>False</td>\n",
       "    </tr>\n",
       "    <tr>\n",
       "      <td>6</td>\n",
       "      <td>6</td>\n",
       "      <td>3</td>\n",
       "      <td>0.14</td>\n",
       "      <td>124</td>\n",
       "      <td>Green</td>\n",
       "      <td>True</td>\n",
       "      <td>False</td>\n",
       "      <td>False</td>\n",
       "    </tr>\n",
       "  </tbody>\n",
       "</table>\n",
       "</div>"
      ],
      "text/plain": [
       "   A    B     C    D      E  E_Green  E_Red  E_Blue\n",
       "0  0    2   0.1  100  Green     True  False   False\n",
       "1  1  NaN  0.12  120    Red    False   True   False\n",
       "2  2    7  0.11  NaN   Blue    False  False    True\n",
       "3  3    4  0.15  127   Blue    False  False    True\n",
       "4  4    9  0.16  130  Green     True  False   False\n",
       "5  5    1  0.11  121    Red    False   True   False\n",
       "6  6    3  0.14  124  Green     True  False   False"
      ]
     },
     "execution_count": 31,
     "metadata": {},
     "output_type": "execute_result"
    }
   ],
   "source": [
    "x_cat = x.copy()\n",
    "for val in x['E'].unique():\n",
    "    x_cat['E_{0}'.format(val)] = x_cat['E'] == val\n",
    "x_cat"
   ]
  },
  {
   "cell_type": "code",
   "execution_count": 32,
   "metadata": {},
   "outputs": [
    {
     "data": {
      "text/html": [
       "<div>\n",
       "<style scoped>\n",
       "    .dataframe tbody tr th:only-of-type {\n",
       "        vertical-align: middle;\n",
       "    }\n",
       "\n",
       "    .dataframe tbody tr th {\n",
       "        vertical-align: top;\n",
       "    }\n",
       "\n",
       "    .dataframe thead th {\n",
       "        text-align: right;\n",
       "    }\n",
       "</style>\n",
       "<table border=\"1\" class=\"dataframe\">\n",
       "  <thead>\n",
       "    <tr style=\"text-align: right;\">\n",
       "      <th>E</th>\n",
       "      <th>Blue</th>\n",
       "      <th>Green</th>\n",
       "      <th>Red</th>\n",
       "    </tr>\n",
       "    <tr>\n",
       "      <th>A</th>\n",
       "      <th></th>\n",
       "      <th></th>\n",
       "      <th></th>\n",
       "    </tr>\n",
       "  </thead>\n",
       "  <tbody>\n",
       "    <tr>\n",
       "      <td>0</td>\n",
       "      <td>NaN</td>\n",
       "      <td>0.1</td>\n",
       "      <td>NaN</td>\n",
       "    </tr>\n",
       "    <tr>\n",
       "      <td>1</td>\n",
       "      <td>NaN</td>\n",
       "      <td>NaN</td>\n",
       "      <td>0.12</td>\n",
       "    </tr>\n",
       "    <tr>\n",
       "      <td>2</td>\n",
       "      <td>0.11</td>\n",
       "      <td>NaN</td>\n",
       "      <td>NaN</td>\n",
       "    </tr>\n",
       "    <tr>\n",
       "      <td>3</td>\n",
       "      <td>0.15</td>\n",
       "      <td>NaN</td>\n",
       "      <td>NaN</td>\n",
       "    </tr>\n",
       "    <tr>\n",
       "      <td>4</td>\n",
       "      <td>NaN</td>\n",
       "      <td>0.16</td>\n",
       "      <td>NaN</td>\n",
       "    </tr>\n",
       "    <tr>\n",
       "      <td>5</td>\n",
       "      <td>NaN</td>\n",
       "      <td>NaN</td>\n",
       "      <td>0.11</td>\n",
       "    </tr>\n",
       "    <tr>\n",
       "      <td>6</td>\n",
       "      <td>NaN</td>\n",
       "      <td>0.14</td>\n",
       "      <td>NaN</td>\n",
       "    </tr>\n",
       "  </tbody>\n",
       "</table>\n",
       "</div>"
      ],
      "text/plain": [
       "E  Blue Green   Red\n",
       "A                  \n",
       "0   NaN   0.1   NaN\n",
       "1   NaN   NaN  0.12\n",
       "2  0.11   NaN   NaN\n",
       "3  0.15   NaN   NaN\n",
       "4   NaN  0.16   NaN\n",
       "5   NaN   NaN  0.11\n",
       "6   NaN  0.14   NaN"
      ]
     },
     "execution_count": 32,
     "metadata": {},
     "output_type": "execute_result"
    }
   ],
   "source": [
    "# Another option to have one feature per color is to use Pivot\n",
    "# Note that it will create missing data:\n",
    "x.pivot(index='A', columns='E', values='C')"
   ]
  },
  {
   "cell_type": "markdown",
   "metadata": {
    "slideshow": {
     "slide_type": "slide"
    }
   },
   "source": [
    "## Pre-processing a dataset: when are ready for ML?\n",
    "* ~~Ideally, data are organized as a table: examples-vs-features~~\n",
    "* ~~Data from multiple sources are combined~~\n",
    "* ~~Missing data are handled~~\n",
    "* ~~Features have been combined and manipulated as needed~~\n",
    "* ~~Any data that need to be normalized have been normalized~~\n",
    "* ~~Data are of correct type (e.g. categorical vs continuous, boolean vs int)~~"
   ]
  },
  {
   "cell_type": "markdown",
   "metadata": {
    "slideshow": {
     "slide_type": "slide"
    }
   },
   "source": [
    "## Other types of data storage\n",
    "* Image\n",
    "* Text"
   ]
  },
  {
   "cell_type": "markdown",
   "metadata": {},
   "source": [
    "### Image\n",
    "\n",
    "Datasets with images also need to follow samples-by-features format.\n",
    "Features in this case are pixels and their intensities. For black and white images intensities are binary. For grayscale they could be integer or floating point numbers. Color images are usually represented as multiple images - one for each color channel (e.g. red / green / blue).\n",
    "\n",
    "Thus each image is represented as a one dimensional array, which is exactly what's needed for ML applications. To visualize it, however, we need to change its shape."
   ]
  },
  {
   "cell_type": "code",
   "execution_count": 33,
   "metadata": {},
   "outputs": [
    {
     "name": "stdout",
     "output_type": "stream",
     "text": [
      "downloading Olivetti faces from https://ndownloader.figshare.com/files/5976027 to C:\\Users\\huy13\\scikit_learn_data\n",
      "Dimensionality samples x features (400, 4096)\n"
     ]
    },
    {
     "data": {
      "text/plain": [
       "array([0.30991736, 0.3677686 , 0.41735536, ..., 0.15289256, 0.16115703,\n",
       "       0.1570248 ], dtype=float32)"
      ]
     },
     "execution_count": 33,
     "metadata": {},
     "output_type": "execute_result"
    }
   ],
   "source": [
    "from sklearn.datasets import fetch_olivetti_faces\n",
    "dataset = fetch_olivetti_faces()     \n",
    "print(\"Dimensionality samples x features\", dataset.data.shape)\n",
    "\n",
    "# first image - pixel intensities\n",
    "dataset.data[0]"
   ]
  },
  {
   "cell_type": "code",
   "execution_count": 34,
   "metadata": {},
   "outputs": [
    {
     "data": {
      "text/plain": [
       "<matplotlib.image.AxesImage at 0x1d45d0f9188>"
      ]
     },
     "execution_count": 34,
     "metadata": {},
     "output_type": "execute_result"
    },
    {
     "data": {
      "image/png": "[encoded data removed]",
      "text/plain": [
       "<Figure size 432x288 with 1 Axes>"
      ]
     },
     "metadata": {
      "needs_background": "light"
     },
     "output_type": "display_data"
    }
   ],
   "source": [
    "# reshaping to visualize\n",
    "plt.imshow(dataset.data[0].reshape(64, 64), cmap=plt.cm.gray)"
   ]
  },
  {
   "cell_type": "code",
   "execution_count": 35,
   "metadata": {},
   "outputs": [
    {
     "data": {
      "text/plain": [
       "<matplotlib.image.AxesImage at 0x1d45d7d1408>"
      ]
     },
     "execution_count": 35,
     "metadata": {},
     "output_type": "execute_result"
    },
    {
     "data": {
      "image/png": "[encoded data removed]",
      "text/plain": [
       "<Figure size 432x288 with 1 Axes>"
      ]
     },
     "metadata": {
      "needs_background": "light"
     },
     "output_type": "display_data"
    }
   ],
   "source": [
    "# Example of normalization of an image\n",
    "from sklearn.preprocessing import Binarizer\n",
    "\n",
    "image = dataset.data[0].reshape(64, 64)\n",
    "normalized_image = Binarizer(threshold=0.6).fit_transform(image)\n",
    "plt.imshow(normalized_image, cmap=plt.cm.gray)"
   ]
  },
  {
   "cell_type": "markdown",
   "metadata": {},
   "source": [
    "### Text\n",
    "\n",
    "Text has also to be transformed to samples-by-features format.\n",
    "In the simplest case each document is a sample and ocurrence of words are its features."
   ]
  },
  {
   "cell_type": "code",
   "execution_count": 36,
   "metadata": {},
   "outputs": [
    {
     "name": "stderr",
     "output_type": "stream",
     "text": [
      "Downloading 20news dataset. This may take a few minutes.\n",
      "Downloading dataset from https://ndownloader.figshare.com/files/5975967 (14 MB)\n"
     ]
    },
    {
     "name": "stdout",
     "output_type": "stream",
     "text": [
      "Number of documents 594\n",
      "Beginning of the first document From: ron.roth@rose.com (ron roth)\n",
      "Subject: HYPOGLYCEMIA\n",
      "X-Gated-By: Usenet <==> RoseMail Gateway (v1.70)\n",
      "Organization: Rose Media Inc, Toronto, Ontario.\n",
      "Lines: 31\n",
      "\n",
      "     anello@adcs00.fnal.gov (Anthony Anello) writes:\n",
      "\n",
      "A(>  Can anyone tell me if a bloodcount of 40 when diagnosed as hypoglycemic is\n",
      "A(>  dangerous, i.e. indicates a possible pancreatic problem?  One Dr. says no, the\n",
      "A(>  other (not his specialty) says the first is negligent and that another blood\n",
      "A(>  test should be done.  Also, wh\n"
     ]
    }
   ],
   "source": [
    "from sklearn.datasets import fetch_20newsgroups\n",
    "emails = fetch_20newsgroups(subset='train', categories=['sci.med'], shuffle=True, random_state=0)\n",
    "print(\"Number of documents\", len(emails.data))\n",
    "print(\"Beginning of the first document\", emails.data[0][:500])"
   ]
  },
  {
   "cell_type": "code",
   "execution_count": 37,
   "metadata": {},
   "outputs": [
    {
     "name": "stdout",
     "output_type": "stream",
     "text": [
      "(594, 16257)\n"
     ]
    }
   ],
   "source": [
    "# For every document we count word ocurrence:\n",
    "\n",
    "from sklearn.feature_extraction.text import CountVectorizer\n",
    "emails_in_ML_format = CountVectorizer().fit_transform(emails.data)\n",
    "print(emails_in_ML_format.shape)"
   ]
  },
  {
   "cell_type": "code",
   "execution_count": 38,
   "metadata": {},
   "outputs": [
    {
     "data": {
      "text/plain": [
       "matrix([[1, 0, 0, ..., 0, 0, 0]], dtype=int64)"
      ]
     },
     "execution_count": 38,
     "metadata": {},
     "output_type": "execute_result"
    }
   ],
   "source": [
    "# Now this is how the first document looks like:\n",
    "emails_in_ML_format[0].todense()"
   ]
  }
 ],
 "metadata": {
  "kernelspec": {
   "display_name": "Python 3",
   "language": "python",
   "name": "python3"
  },
  "language_info": {
   "codemirror_mode": {
    "name": "ipython",
    "version": 3
   },
   "file_extension": ".py",
   "mimetype": "text/x-python",
   "name": "python",
   "nbconvert_exporter": "python",
   "pygments_lexer": "ipython3",
   "version": "3.7.4"
  },
  "livereveal": {
   "start_slideshow_at": "selected"
  }
 },
 "nbformat": 4,
 "nbformat_minor": 4
}
